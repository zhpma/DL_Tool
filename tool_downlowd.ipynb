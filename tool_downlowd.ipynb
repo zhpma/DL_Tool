{
 "cells": [
  {
   "cell_type": "code",
   "id": "initial_id",
   "metadata": {
    "collapsed": true,
    "ExecuteTime": {
     "end_time": "2025-02-16T11:17:21.251927Z",
     "start_time": "2025-02-16T11:17:21.224418Z"
    }
   },
   "source": [
    "import hashlib\n",
    "import os\n",
    "import tarfile\n",
    "import zipfile\n",
    "import requests\n",
    "\n",
    "#@save\n",
    "DATA_HUB = dict()\n",
    "\n",
    "def download(name, cache_dir=os.path.join('..', 'data')):  #@save\n",
    "    \"\"\"下载一个DATA_HUB中的文件，返回本地文件名\"\"\"\n",
    "    assert name in DATA_HUB, f\"{name} 不存在于 {DATA_HUB}\"\n",
    "    url = DATA_HUB[name]  # 不再使用 sha1_hash\n",
    "    os.makedirs(cache_dir, exist_ok=True)\n",
    "    fname = os.path.join(cache_dir, url.split('/')[-1])\n",
    "    \n",
    "    # 如果文件已存在，直接返回文件路径，不进行校验\n",
    "    if os.path.exists(fname):\n",
    "        return fname\n",
    "    \n",
    "    print(f'正在从{url}下载{fname}...')\n",
    "    r = requests.get(url, stream=True, verify=True)\n",
    "    with open(fname, 'wb') as f:\n",
    "        f.write(r.content)\n",
    "    \n",
    "    return fname\n",
    "\n",
    "def download_extract(name, folder=None):  #@save\n",
    "    \"\"\"下载并解压zip/tar文件\"\"\"\n",
    "    fname = download(name)\n",
    "    base_dir = os.path.dirname(fname)\n",
    "    data_dir, ext = os.path.splitext(fname)\n",
    "    if ext == '.zip':\n",
    "        fp = zipfile.ZipFile(fname, 'r')\n",
    "    elif ext in ('.tar', '.gz'):\n",
    "        fp = tarfile.open(fname, 'r')\n",
    "    else:\n",
    "        assert False, '只有zip/tar文件可以被解压缩'\n",
    "    fp.extractall(base_dir)\n",
    "    return os.path.join(base_dir, folder) if folder else data_dir\n",
    "\n",
    "def download_all():  #@save\n",
    "    \"\"\"下载DATA_HUB中的所有文件\"\"\"\n",
    "    for name in DATA_HUB:\n",
    "        download(name)"
   ],
   "outputs": [],
   "execution_count": 2
  },
  {
   "metadata": {
    "ExecuteTime": {
     "end_time": "2025-02-16T11:17:23.695311Z",
     "start_time": "2025-02-16T11:17:21.955342Z"
    }
   },
   "cell_type": "code",
   "source": [
    "%matplotlib inline\n",
    "import numpy as np\n",
    "import pandas as pd\n",
    "import torch\n",
    "from torch import nn\n",
    "\n",
    "# # 假设你有一个图片的URL\n",
    "# image_url = 'https://tx-free-imgs.acfun.cn/o_1dsbrgspq1co71qmok1c1ed51thq0.jpeg'\n",
    "# \n",
    "# DATA_HUB = {'baidu_image': (image_url)}  #直接创建并初始化字典 \n",
    "# DATA_HUB['baidu_image'] = (image_url) #已经存在字典 \n",
    "# # 调用 download 函数下载图片\n",
    "# download('baidu_image', cache_dir='../images') #文件名是最后一个/后面部分\n",
    "\n",
    "DATA_HUB['sample_zip'] = ('https://example.com/sample.zip')\n",
    "\n",
    "# 下载并解压文件\n",
    "extracted_folder = download_extract('sample_zip')\n",
    "\n",
    "# 输出解压后的文件夹路径\n",
    "print(f\"文件已解压到: {extracted_folder}\")"
   ],
   "id": "b683aab2dbfc7b90",
   "outputs": [
    {
     "name": "stdout",
     "output_type": "stream",
     "text": [
      "正在从https://tx-free-imgs.acfun.cn/o_1dsbrgspq1co71qmok1c1ed51thq0.jpeg下载../images\\o_1dsbrgspq1co71qmok1c1ed51thq0.jpeg...\n"
     ]
    },
    {
     "data": {
      "text/plain": [
       "'../images\\\\o_1dsbrgspq1co71qmok1c1ed51thq0.jpeg'"
      ]
     },
     "execution_count": 3,
     "metadata": {},
     "output_type": "execute_result"
    }
   ],
   "execution_count": 3
  },
  {
   "metadata": {},
   "cell_type": "code",
   "outputs": [],
   "execution_count": null,
   "source": "",
   "id": "235ac79d1be2065e"
  }
 ],
 "metadata": {
  "kernelspec": {
   "display_name": "Python 3",
   "language": "python",
   "name": "python3"
  },
  "language_info": {
   "codemirror_mode": {
    "name": "ipython",
    "version": 2
   },
   "file_extension": ".py",
   "mimetype": "text/x-python",
   "name": "python",
   "nbconvert_exporter": "python",
   "pygments_lexer": "ipython2",
   "version": "2.7.6"
  }
 },
 "nbformat": 4,
 "nbformat_minor": 5
}
